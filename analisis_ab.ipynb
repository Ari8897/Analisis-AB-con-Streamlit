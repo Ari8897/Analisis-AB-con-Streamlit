{
 "cells": [
  {
   "cell_type": "markdown",
   "id": "19da7f69",
   "metadata": {},
   "source": [
    "<h1>Primer Proyecto</h1>"
   ]
  },
  {
   "cell_type": "markdown",
   "id": "560ee302",
   "metadata": {},
   "source": [
    "**Descripción del proyecto**: Este proyecto se enfoca en ayudar a evaluar el éxito de campañas publicitarias utilizando pruebas A/B. Estas pruebas involucran mostrar diferentes versiones de anuncios a grupos de personas para medir su impacto en métricas comerciales. El objetivo es responder a dos preguntas clave: ¿La campaña fue exitosa? Y, si lo fue, ¿cuál fue la contribución de los anuncios a ese éxito? Los datos se analizan para determinar si los anuncios generaron un impacto significativo y cuánto valor aportaron a la empresa.\n",
    "\n",
    "El dataset utilizado cuenta con Licencia CCO Public Domain:\n",
    "[Consulta el DataSet](https://www.kaggle.com/datasets/faviovaz/marketing-ab-testing?resource=download)"
   ]
  },
  {
   "cell_type": "code",
   "execution_count": 1,
   "id": "23b9456f",
   "metadata": {},
   "outputs": [],
   "source": [
    "#Importamos las librerias necesarias.\n",
    "import pandas as pd\n",
    "import matplotlib.pyplot as plt\n",
    "import numpy as np\n",
    "from statsmodels.stats.proportion import proportions_ztest"
   ]
  },
  {
   "cell_type": "markdown",
   "id": "0f90a8a2",
   "metadata": {},
   "source": [
    "#### Lectura y analisis exploratorio inicial de datos"
   ]
  },
  {
   "cell_type": "code",
   "execution_count": 2,
   "id": "5ddb8166",
   "metadata": {},
   "outputs": [],
   "source": [
    "#Lectura de los datos y carga a la variable data_mk.\n",
    "data_mk = pd.read_csv(\"marketing_AB.csv\")"
   ]
  },
  {
   "cell_type": "code",
   "execution_count": 3,
   "id": "70a3cc4c",
   "metadata": {},
   "outputs": [
    {
     "data": {
      "text/html": [
       "<div>\n",
       "<style scoped>\n",
       "    .dataframe tbody tr th:only-of-type {\n",
       "        vertical-align: middle;\n",
       "    }\n",
       "\n",
       "    .dataframe tbody tr th {\n",
       "        vertical-align: top;\n",
       "    }\n",
       "\n",
       "    .dataframe thead th {\n",
       "        text-align: right;\n",
       "    }\n",
       "</style>\n",
       "<table border=\"1\" class=\"dataframe\">\n",
       "  <thead>\n",
       "    <tr style=\"text-align: right;\">\n",
       "      <th></th>\n",
       "      <th>Unnamed: 0</th>\n",
       "      <th>user id</th>\n",
       "      <th>test group</th>\n",
       "      <th>converted</th>\n",
       "      <th>total ads</th>\n",
       "      <th>most ads day</th>\n",
       "      <th>most ads hour</th>\n",
       "    </tr>\n",
       "  </thead>\n",
       "  <tbody>\n",
       "    <tr>\n",
       "      <th>0</th>\n",
       "      <td>0</td>\n",
       "      <td>1069124</td>\n",
       "      <td>ad</td>\n",
       "      <td>False</td>\n",
       "      <td>130</td>\n",
       "      <td>Monday</td>\n",
       "      <td>20</td>\n",
       "    </tr>\n",
       "    <tr>\n",
       "      <th>1</th>\n",
       "      <td>1</td>\n",
       "      <td>1119715</td>\n",
       "      <td>ad</td>\n",
       "      <td>False</td>\n",
       "      <td>93</td>\n",
       "      <td>Tuesday</td>\n",
       "      <td>22</td>\n",
       "    </tr>\n",
       "    <tr>\n",
       "      <th>2</th>\n",
       "      <td>2</td>\n",
       "      <td>1144181</td>\n",
       "      <td>ad</td>\n",
       "      <td>False</td>\n",
       "      <td>21</td>\n",
       "      <td>Tuesday</td>\n",
       "      <td>18</td>\n",
       "    </tr>\n",
       "    <tr>\n",
       "      <th>3</th>\n",
       "      <td>3</td>\n",
       "      <td>1435133</td>\n",
       "      <td>ad</td>\n",
       "      <td>False</td>\n",
       "      <td>355</td>\n",
       "      <td>Tuesday</td>\n",
       "      <td>10</td>\n",
       "    </tr>\n",
       "    <tr>\n",
       "      <th>4</th>\n",
       "      <td>4</td>\n",
       "      <td>1015700</td>\n",
       "      <td>ad</td>\n",
       "      <td>False</td>\n",
       "      <td>276</td>\n",
       "      <td>Friday</td>\n",
       "      <td>14</td>\n",
       "    </tr>\n",
       "    <tr>\n",
       "      <th>5</th>\n",
       "      <td>5</td>\n",
       "      <td>1137664</td>\n",
       "      <td>ad</td>\n",
       "      <td>False</td>\n",
       "      <td>734</td>\n",
       "      <td>Saturday</td>\n",
       "      <td>10</td>\n",
       "    </tr>\n",
       "    <tr>\n",
       "      <th>6</th>\n",
       "      <td>6</td>\n",
       "      <td>1116205</td>\n",
       "      <td>ad</td>\n",
       "      <td>False</td>\n",
       "      <td>264</td>\n",
       "      <td>Wednesday</td>\n",
       "      <td>13</td>\n",
       "    </tr>\n",
       "    <tr>\n",
       "      <th>7</th>\n",
       "      <td>7</td>\n",
       "      <td>1496843</td>\n",
       "      <td>ad</td>\n",
       "      <td>False</td>\n",
       "      <td>17</td>\n",
       "      <td>Sunday</td>\n",
       "      <td>18</td>\n",
       "    </tr>\n",
       "    <tr>\n",
       "      <th>8</th>\n",
       "      <td>8</td>\n",
       "      <td>1448851</td>\n",
       "      <td>ad</td>\n",
       "      <td>False</td>\n",
       "      <td>21</td>\n",
       "      <td>Tuesday</td>\n",
       "      <td>19</td>\n",
       "    </tr>\n",
       "    <tr>\n",
       "      <th>9</th>\n",
       "      <td>9</td>\n",
       "      <td>1446284</td>\n",
       "      <td>ad</td>\n",
       "      <td>False</td>\n",
       "      <td>142</td>\n",
       "      <td>Monday</td>\n",
       "      <td>14</td>\n",
       "    </tr>\n",
       "  </tbody>\n",
       "</table>\n",
       "</div>"
      ],
      "text/plain": [
       "   Unnamed: 0  user id test group  converted  total ads most ads day  \\\n",
       "0           0  1069124         ad      False        130       Monday   \n",
       "1           1  1119715         ad      False         93      Tuesday   \n",
       "2           2  1144181         ad      False         21      Tuesday   \n",
       "3           3  1435133         ad      False        355      Tuesday   \n",
       "4           4  1015700         ad      False        276       Friday   \n",
       "5           5  1137664         ad      False        734     Saturday   \n",
       "6           6  1116205         ad      False        264    Wednesday   \n",
       "7           7  1496843         ad      False         17       Sunday   \n",
       "8           8  1448851         ad      False         21      Tuesday   \n",
       "9           9  1446284         ad      False        142       Monday   \n",
       "\n",
       "   most ads hour  \n",
       "0             20  \n",
       "1             22  \n",
       "2             18  \n",
       "3             10  \n",
       "4             14  \n",
       "5             10  \n",
       "6             13  \n",
       "7             18  \n",
       "8             19  \n",
       "9             14  "
      ]
     },
     "execution_count": 3,
     "metadata": {},
     "output_type": "execute_result"
    }
   ],
   "source": [
    "#Imprimir primeros registros.\n",
    "data_mk.head(10)"
   ]
  },
  {
   "cell_type": "code",
   "execution_count": 4,
   "id": "0f2e71f5",
   "metadata": {},
   "outputs": [
    {
     "data": {
      "text/html": [
       "<div>\n",
       "<style scoped>\n",
       "    .dataframe tbody tr th:only-of-type {\n",
       "        vertical-align: middle;\n",
       "    }\n",
       "\n",
       "    .dataframe tbody tr th {\n",
       "        vertical-align: top;\n",
       "    }\n",
       "\n",
       "    .dataframe thead th {\n",
       "        text-align: right;\n",
       "    }\n",
       "</style>\n",
       "<table border=\"1\" class=\"dataframe\">\n",
       "  <thead>\n",
       "    <tr style=\"text-align: right;\">\n",
       "      <th></th>\n",
       "      <th>Unnamed: 0</th>\n",
       "      <th>user id</th>\n",
       "      <th>test group</th>\n",
       "      <th>converted</th>\n",
       "      <th>total ads</th>\n",
       "      <th>most ads day</th>\n",
       "      <th>most ads hour</th>\n",
       "    </tr>\n",
       "  </thead>\n",
       "  <tbody>\n",
       "    <tr>\n",
       "      <th>588096</th>\n",
       "      <td>588096</td>\n",
       "      <td>1278437</td>\n",
       "      <td>ad</td>\n",
       "      <td>False</td>\n",
       "      <td>1</td>\n",
       "      <td>Tuesday</td>\n",
       "      <td>23</td>\n",
       "    </tr>\n",
       "    <tr>\n",
       "      <th>588097</th>\n",
       "      <td>588097</td>\n",
       "      <td>1327975</td>\n",
       "      <td>ad</td>\n",
       "      <td>False</td>\n",
       "      <td>1</td>\n",
       "      <td>Tuesday</td>\n",
       "      <td>23</td>\n",
       "    </tr>\n",
       "    <tr>\n",
       "      <th>588098</th>\n",
       "      <td>588098</td>\n",
       "      <td>1038442</td>\n",
       "      <td>ad</td>\n",
       "      <td>False</td>\n",
       "      <td>3</td>\n",
       "      <td>Tuesday</td>\n",
       "      <td>23</td>\n",
       "    </tr>\n",
       "    <tr>\n",
       "      <th>588099</th>\n",
       "      <td>588099</td>\n",
       "      <td>1496395</td>\n",
       "      <td>ad</td>\n",
       "      <td>False</td>\n",
       "      <td>1</td>\n",
       "      <td>Tuesday</td>\n",
       "      <td>23</td>\n",
       "    </tr>\n",
       "    <tr>\n",
       "      <th>588100</th>\n",
       "      <td>588100</td>\n",
       "      <td>1237779</td>\n",
       "      <td>ad</td>\n",
       "      <td>False</td>\n",
       "      <td>1</td>\n",
       "      <td>Tuesday</td>\n",
       "      <td>23</td>\n",
       "    </tr>\n",
       "  </tbody>\n",
       "</table>\n",
       "</div>"
      ],
      "text/plain": [
       "        Unnamed: 0  user id test group  converted  total ads most ads day  \\\n",
       "588096      588096  1278437         ad      False          1      Tuesday   \n",
       "588097      588097  1327975         ad      False          1      Tuesday   \n",
       "588098      588098  1038442         ad      False          3      Tuesday   \n",
       "588099      588099  1496395         ad      False          1      Tuesday   \n",
       "588100      588100  1237779         ad      False          1      Tuesday   \n",
       "\n",
       "        most ads hour  \n",
       "588096             23  \n",
       "588097             23  \n",
       "588098             23  \n",
       "588099             23  \n",
       "588100             23  "
      ]
     },
     "execution_count": 4,
     "metadata": {},
     "output_type": "execute_result"
    }
   ],
   "source": [
    "#Imprimir la cola de la tabla.\n",
    "data_mk.tail()"
   ]
  },
  {
   "cell_type": "code",
   "execution_count": 5,
   "id": "642f8a81",
   "metadata": {},
   "outputs": [
    {
     "data": {
      "text/plain": [
       "(588101, 7)"
      ]
     },
     "execution_count": 5,
     "metadata": {},
     "output_type": "execute_result"
    }
   ],
   "source": [
    "#Estructura de columnas y filas de la tabla.\n",
    "data_mk.shape"
   ]
  },
  {
   "cell_type": "code",
   "execution_count": 6,
   "id": "314e37cd",
   "metadata": {},
   "outputs": [
    {
     "name": "stdout",
     "output_type": "stream",
     "text": [
      "<class 'pandas.core.frame.DataFrame'>\n",
      "RangeIndex: 588101 entries, 0 to 588100\n",
      "Data columns (total 7 columns):\n",
      " #   Column         Non-Null Count   Dtype \n",
      "---  ------         --------------   ----- \n",
      " 0   Unnamed: 0     588101 non-null  int64 \n",
      " 1   user id        588101 non-null  int64 \n",
      " 2   test group     588101 non-null  object\n",
      " 3   converted      588101 non-null  bool  \n",
      " 4   total ads      588101 non-null  int64 \n",
      " 5   most ads day   588101 non-null  object\n",
      " 6   most ads hour  588101 non-null  int64 \n",
      "dtypes: bool(1), int64(4), object(2)\n",
      "memory usage: 27.5+ MB\n"
     ]
    }
   ],
   "source": [
    "#Información principal de la tabla.\n",
    "data_mk.info()"
   ]
  },
  {
   "cell_type": "code",
   "execution_count": 7,
   "id": "17c82b8c",
   "metadata": {},
   "outputs": [
    {
     "data": {
      "text/html": [
       "<div>\n",
       "<style scoped>\n",
       "    .dataframe tbody tr th:only-of-type {\n",
       "        vertical-align: middle;\n",
       "    }\n",
       "\n",
       "    .dataframe tbody tr th {\n",
       "        vertical-align: top;\n",
       "    }\n",
       "\n",
       "    .dataframe thead th {\n",
       "        text-align: right;\n",
       "    }\n",
       "</style>\n",
       "<table border=\"1\" class=\"dataframe\">\n",
       "  <thead>\n",
       "    <tr style=\"text-align: right;\">\n",
       "      <th></th>\n",
       "      <th>Unnamed: 0</th>\n",
       "      <th>user id</th>\n",
       "      <th>total ads</th>\n",
       "      <th>most ads hour</th>\n",
       "    </tr>\n",
       "  </thead>\n",
       "  <tbody>\n",
       "    <tr>\n",
       "      <th>count</th>\n",
       "      <td>588101.000000</td>\n",
       "      <td>5.881010e+05</td>\n",
       "      <td>588101.000000</td>\n",
       "      <td>588101.000000</td>\n",
       "    </tr>\n",
       "    <tr>\n",
       "      <th>mean</th>\n",
       "      <td>294050.000000</td>\n",
       "      <td>1.310692e+06</td>\n",
       "      <td>24.820876</td>\n",
       "      <td>14.469061</td>\n",
       "    </tr>\n",
       "    <tr>\n",
       "      <th>std</th>\n",
       "      <td>169770.279668</td>\n",
       "      <td>2.022260e+05</td>\n",
       "      <td>43.715181</td>\n",
       "      <td>4.834634</td>\n",
       "    </tr>\n",
       "    <tr>\n",
       "      <th>min</th>\n",
       "      <td>0.000000</td>\n",
       "      <td>9.000000e+05</td>\n",
       "      <td>1.000000</td>\n",
       "      <td>0.000000</td>\n",
       "    </tr>\n",
       "    <tr>\n",
       "      <th>25%</th>\n",
       "      <td>147025.000000</td>\n",
       "      <td>1.143190e+06</td>\n",
       "      <td>4.000000</td>\n",
       "      <td>11.000000</td>\n",
       "    </tr>\n",
       "    <tr>\n",
       "      <th>50%</th>\n",
       "      <td>294050.000000</td>\n",
       "      <td>1.313725e+06</td>\n",
       "      <td>13.000000</td>\n",
       "      <td>14.000000</td>\n",
       "    </tr>\n",
       "    <tr>\n",
       "      <th>75%</th>\n",
       "      <td>441075.000000</td>\n",
       "      <td>1.484088e+06</td>\n",
       "      <td>27.000000</td>\n",
       "      <td>18.000000</td>\n",
       "    </tr>\n",
       "    <tr>\n",
       "      <th>max</th>\n",
       "      <td>588100.000000</td>\n",
       "      <td>1.654483e+06</td>\n",
       "      <td>2065.000000</td>\n",
       "      <td>23.000000</td>\n",
       "    </tr>\n",
       "  </tbody>\n",
       "</table>\n",
       "</div>"
      ],
      "text/plain": [
       "          Unnamed: 0       user id      total ads  most ads hour\n",
       "count  588101.000000  5.881010e+05  588101.000000  588101.000000\n",
       "mean   294050.000000  1.310692e+06      24.820876      14.469061\n",
       "std    169770.279668  2.022260e+05      43.715181       4.834634\n",
       "min         0.000000  9.000000e+05       1.000000       0.000000\n",
       "25%    147025.000000  1.143190e+06       4.000000      11.000000\n",
       "50%    294050.000000  1.313725e+06      13.000000      14.000000\n",
       "75%    441075.000000  1.484088e+06      27.000000      18.000000\n",
       "max    588100.000000  1.654483e+06    2065.000000      23.000000"
      ]
     },
     "execution_count": 7,
     "metadata": {},
     "output_type": "execute_result"
    }
   ],
   "source": [
    "#Analizo las principales estadísticas.\n",
    "data_mk.describe()"
   ]
  },
  {
   "cell_type": "code",
   "execution_count": 8,
   "id": "e24b7b32",
   "metadata": {},
   "outputs": [
    {
     "name": "stdout",
     "output_type": "stream",
     "text": [
      "<bound method NDFrame.head of         Unnamed: 0  user id test group  converted  total ads most ads day  \\\n",
      "0                0  1069124         ad      False        130       Monday   \n",
      "1                1  1119715         ad      False         93      Tuesday   \n",
      "2                2  1144181         ad      False         21      Tuesday   \n",
      "3                3  1435133         ad      False        355      Tuesday   \n",
      "4                4  1015700         ad      False        276       Friday   \n",
      "...            ...      ...        ...        ...        ...          ...   \n",
      "588096      588096  1278437         ad      False          1      Tuesday   \n",
      "588097      588097  1327975         ad      False          1      Tuesday   \n",
      "588098      588098  1038442         ad      False          3      Tuesday   \n",
      "588099      588099  1496395         ad      False          1      Tuesday   \n",
      "588100      588100  1237779         ad      False          1      Tuesday   \n",
      "\n",
      "        most ads hour  \n",
      "0                  20  \n",
      "1                  22  \n",
      "2                  18  \n",
      "3                  10  \n",
      "4                  14  \n",
      "...               ...  \n",
      "588096             23  \n",
      "588097             23  \n",
      "588098             23  \n",
      "588099             23  \n",
      "588100             23  \n",
      "\n",
      "[588101 rows x 7 columns]>\n"
     ]
    }
   ],
   "source": [
    "print(data_mk.head)"
   ]
  },
  {
   "cell_type": "code",
   "execution_count": 9,
   "id": "5a31b0e9",
   "metadata": {},
   "outputs": [
    {
     "name": "stdout",
     "output_type": "stream",
     "text": [
      "Unnamed: 0       0\n",
      "user id          0\n",
      "test group       0\n",
      "converted        0\n",
      "total ads        0\n",
      "most ads day     0\n",
      "most ads hour    0\n",
      "dtype: int64\n",
      "conclusion:no se detectan nulos\n"
     ]
    }
   ],
   "source": [
    "#Detecar nulos.\n",
    "print(data_mk.isna().sum())\n",
    "print(\"conclusión:no se detectan nulos\")"
   ]
  },
  {
   "cell_type": "markdown",
   "id": "116b828b",
   "metadata": {},
   "source": [
    "# Análisis preliminar de los datos por campo:\n",
    "\n",
    "* *user id:* número que identifica al cliente, lo dejamos para analizar si el comportamiento se repite.\n",
    "* *test group:* nos inidca si el cliente visualiizó los anuncios.\n",
    "* *converted*: nos inidca si la persona compro el producto.\n",
    "* *total ads*: nos inidca cantidad de anuncios vistos por persona.\n",
    "* *most ads day*: nos inidca el dia que la persona vio la mayor cantidad de anuncios.\n",
    "* *most ads hour*: nos inidca la hora del dia en la que vio mas anuncios."
   ]
  },
  {
   "cell_type": "code",
   "execution_count": 10,
   "id": "57129f5c",
   "metadata": {},
   "outputs": [
    {
     "data": {
      "text/plain": [
       "converted\n",
       "False    573258\n",
       "True      14843\n",
       "Name: user id, dtype: int64"
      ]
     },
     "execution_count": 10,
     "metadata": {},
     "output_type": "execute_result"
    }
   ],
   "source": [
    "#user id\n",
    "data_mk.groupby(by=[\"converted\"])[\"user id\"].count()\n"
   ]
  },
  {
   "cell_type": "code",
   "execution_count": 11,
   "id": "c3458e25",
   "metadata": {},
   "outputs": [
    {
     "data": {
      "text/plain": [
       "test group\n",
       "ad     564577\n",
       "psa     23524\n",
       "Name: converted, dtype: int64"
      ]
     },
     "execution_count": 11,
     "metadata": {},
     "output_type": "execute_result"
    }
   ],
   "source": [
    "#user id2\n",
    "data_mk.groupby(by=[\"test group\"])[\"converted\"].count()"
   ]
  },
  {
   "cell_type": "code",
   "execution_count": 12,
   "id": "971680a4",
   "metadata": {
    "scrolled": true
   },
   "outputs": [
    {
     "data": {
      "text/plain": [
       "converted  test group\n",
       "False      ad            550154\n",
       "           psa            23104\n",
       "True       ad             14423\n",
       "           psa              420\n",
       "Name: user id, dtype: int64"
      ]
     },
     "execution_count": 12,
     "metadata": {},
     "output_type": "execute_result"
    }
   ],
   "source": [
    "#Quienes compraron y vieron el anuncio.\n",
    "data_mk.groupby(by=[\"converted\",\"test group\"])[\"user id\"].count()"
   ]
  },
  {
   "cell_type": "code",
   "execution_count": 13,
   "id": "c4b5af62",
   "metadata": {},
   "outputs": [],
   "source": [
    "#agrupar por tipo de cliente\n",
    "tipo_adv=data_mk.groupby(by=[\"test group\"]).count()[\"user id\"]"
   ]
  },
  {
   "cell_type": "code",
   "execution_count": 14,
   "id": "eb553b6b",
   "metadata": {},
   "outputs": [
    {
     "data": {
      "text/plain": [
       "<Axes: title={'center': 'Análisis por tipo de cliente'}, ylabel='user id'>"
      ]
     },
     "execution_count": 14,
     "metadata": {},
     "output_type": "execute_result"
    },
    {
     "data": {
      "image/png": "[encoded data removed]",
      "text/plain": [
       "<Figure size 500x500 with 1 Axes>"
      ]
     },
     "metadata": {},
     "output_type": "display_data"
    }
   ],
   "source": [
    "tipo_adv.plot.pie(figsize=(5,5),autopct='%1.1f%%', title=\"Análisis por tipo de cliente\",\n",
    "     shadow=True, startangle=90)"
   ]
  },
  {
   "cell_type": "markdown",
   "id": "a2ebdae1",
   "metadata": {},
   "source": [
    "## Limpieza de datos\n"
   ]
  },
  {
   "cell_type": "code",
   "execution_count": 15,
   "id": "fa0dba98",
   "metadata": {},
   "outputs": [
    {
     "data": {
      "text/plain": [
       "Index(['Unnamed: 0', 'user id', 'test group', 'converted', 'total ads',\n",
       "       'most ads day', 'most ads hour'],\n",
       "      dtype='object')"
      ]
     },
     "execution_count": 15,
     "metadata": {},
     "output_type": "execute_result"
    }
   ],
   "source": [
    "#Ver columnas del DF\n",
    "data_mk.columns"
   ]
  },
  {
   "cell_type": "code",
   "execution_count": 16,
   "id": "63eac497",
   "metadata": {},
   "outputs": [
    {
     "data": {
      "text/html": [
       "<div>\n",
       "<style scoped>\n",
       "    .dataframe tbody tr th:only-of-type {\n",
       "        vertical-align: middle;\n",
       "    }\n",
       "\n",
       "    .dataframe tbody tr th {\n",
       "        vertical-align: top;\n",
       "    }\n",
       "\n",
       "    .dataframe thead th {\n",
       "        text-align: right;\n",
       "    }\n",
       "</style>\n",
       "<table border=\"1\" class=\"dataframe\">\n",
       "  <thead>\n",
       "    <tr style=\"text-align: right;\">\n",
       "      <th></th>\n",
       "      <th>Unnamed: 0</th>\n",
       "      <th>user_id</th>\n",
       "      <th>test group</th>\n",
       "      <th>converted</th>\n",
       "      <th>total_ads</th>\n",
       "      <th>most ads day</th>\n",
       "      <th>most ads hour</th>\n",
       "    </tr>\n",
       "  </thead>\n",
       "  <tbody>\n",
       "    <tr>\n",
       "      <th>0</th>\n",
       "      <td>0</td>\n",
       "      <td>1069124</td>\n",
       "      <td>ad</td>\n",
       "      <td>False</td>\n",
       "      <td>130</td>\n",
       "      <td>Monday</td>\n",
       "      <td>20</td>\n",
       "    </tr>\n",
       "    <tr>\n",
       "      <th>1</th>\n",
       "      <td>1</td>\n",
       "      <td>1119715</td>\n",
       "      <td>ad</td>\n",
       "      <td>False</td>\n",
       "      <td>93</td>\n",
       "      <td>Tuesday</td>\n",
       "      <td>22</td>\n",
       "    </tr>\n",
       "    <tr>\n",
       "      <th>2</th>\n",
       "      <td>2</td>\n",
       "      <td>1144181</td>\n",
       "      <td>ad</td>\n",
       "      <td>False</td>\n",
       "      <td>21</td>\n",
       "      <td>Tuesday</td>\n",
       "      <td>18</td>\n",
       "    </tr>\n",
       "    <tr>\n",
       "      <th>3</th>\n",
       "      <td>3</td>\n",
       "      <td>1435133</td>\n",
       "      <td>ad</td>\n",
       "      <td>False</td>\n",
       "      <td>355</td>\n",
       "      <td>Tuesday</td>\n",
       "      <td>10</td>\n",
       "    </tr>\n",
       "    <tr>\n",
       "      <th>4</th>\n",
       "      <td>4</td>\n",
       "      <td>1015700</td>\n",
       "      <td>ad</td>\n",
       "      <td>False</td>\n",
       "      <td>276</td>\n",
       "      <td>Friday</td>\n",
       "      <td>14</td>\n",
       "    </tr>\n",
       "    <tr>\n",
       "      <th>...</th>\n",
       "      <td>...</td>\n",
       "      <td>...</td>\n",
       "      <td>...</td>\n",
       "      <td>...</td>\n",
       "      <td>...</td>\n",
       "      <td>...</td>\n",
       "      <td>...</td>\n",
       "    </tr>\n",
       "    <tr>\n",
       "      <th>588096</th>\n",
       "      <td>588096</td>\n",
       "      <td>1278437</td>\n",
       "      <td>ad</td>\n",
       "      <td>False</td>\n",
       "      <td>1</td>\n",
       "      <td>Tuesday</td>\n",
       "      <td>23</td>\n",
       "    </tr>\n",
       "    <tr>\n",
       "      <th>588097</th>\n",
       "      <td>588097</td>\n",
       "      <td>1327975</td>\n",
       "      <td>ad</td>\n",
       "      <td>False</td>\n",
       "      <td>1</td>\n",
       "      <td>Tuesday</td>\n",
       "      <td>23</td>\n",
       "    </tr>\n",
       "    <tr>\n",
       "      <th>588098</th>\n",
       "      <td>588098</td>\n",
       "      <td>1038442</td>\n",
       "      <td>ad</td>\n",
       "      <td>False</td>\n",
       "      <td>3</td>\n",
       "      <td>Tuesday</td>\n",
       "      <td>23</td>\n",
       "    </tr>\n",
       "    <tr>\n",
       "      <th>588099</th>\n",
       "      <td>588099</td>\n",
       "      <td>1496395</td>\n",
       "      <td>ad</td>\n",
       "      <td>False</td>\n",
       "      <td>1</td>\n",
       "      <td>Tuesday</td>\n",
       "      <td>23</td>\n",
       "    </tr>\n",
       "    <tr>\n",
       "      <th>588100</th>\n",
       "      <td>588100</td>\n",
       "      <td>1237779</td>\n",
       "      <td>ad</td>\n",
       "      <td>False</td>\n",
       "      <td>1</td>\n",
       "      <td>Tuesday</td>\n",
       "      <td>23</td>\n",
       "    </tr>\n",
       "  </tbody>\n",
       "</table>\n",
       "<p>588101 rows × 7 columns</p>\n",
       "</div>"
      ],
      "text/plain": [
       "        Unnamed: 0  user_id test group  converted  total_ads most ads day  \\\n",
       "0                0  1069124         ad      False        130       Monday   \n",
       "1                1  1119715         ad      False         93      Tuesday   \n",
       "2                2  1144181         ad      False         21      Tuesday   \n",
       "3                3  1435133         ad      False        355      Tuesday   \n",
       "4                4  1015700         ad      False        276       Friday   \n",
       "...            ...      ...        ...        ...        ...          ...   \n",
       "588096      588096  1278437         ad      False          1      Tuesday   \n",
       "588097      588097  1327975         ad      False          1      Tuesday   \n",
       "588098      588098  1038442         ad      False          3      Tuesday   \n",
       "588099      588099  1496395         ad      False          1      Tuesday   \n",
       "588100      588100  1237779         ad      False          1      Tuesday   \n",
       "\n",
       "        most ads hour  \n",
       "0                  20  \n",
       "1                  22  \n",
       "2                  18  \n",
       "3                  10  \n",
       "4                  14  \n",
       "...               ...  \n",
       "588096             23  \n",
       "588097             23  \n",
       "588098             23  \n",
       "588099             23  \n",
       "588100             23  \n",
       "\n",
       "[588101 rows x 7 columns]"
      ]
     },
     "execution_count": 16,
     "metadata": {},
     "output_type": "execute_result"
    }
   ],
   "source": [
    "# quitar espacios de nombres de campos, ejemplo.\n",
    "data_mk.rename(columns={\"user id\":\"user_id\", \"total ads\":\"total_ads\"})"
   ]
  },
  {
   "cell_type": "code",
   "execution_count": 17,
   "id": "b97d4a74",
   "metadata": {},
   "outputs": [
    {
     "data": {
      "text/plain": [
       "Index(['Unnamed:_0', 'user_id', 'test_group', 'converted', 'total_ads',\n",
       "       'most_ads_day', 'most_ads_hour'],\n",
       "      dtype='object')"
      ]
     },
     "execution_count": 17,
     "metadata": {},
     "output_type": "execute_result"
    }
   ],
   "source": [
    "#Renombro columnas\n",
    "data_mk.rename(columns=lambda col: col.strip().replace(\" \",\"_\"),inplace=True)\n",
    "data_mk.columns"
   ]
  },
  {
   "cell_type": "code",
   "execution_count": 18,
   "id": "5a6b6263",
   "metadata": {},
   "outputs": [
    {
     "name": "stdout",
     "output_type": "stream",
     "text": [
      "columns\n"
     ]
    }
   ],
   "source": [
    "#Elimino columna Unnamed porque repite los indices del dfda\n",
    "data_mk.drop([\"Unnamed:_0\"], axis=1)\n",
    "print(\"columns\")"
   ]
  },
  {
   "cell_type": "code",
   "execution_count": 19,
   "id": "9143e54e",
   "metadata": {},
   "outputs": [],
   "source": [
    "labels = 'ad', 'psa'\n",
    "sizes = [564577, 23524]\n",
    "\n"
   ]
  },
  {
   "cell_type": "markdown",
   "id": "ba2ab258",
   "metadata": {},
   "source": [
    "### Análisis A/B\n",
    "Pasos: \n",
    "* Plantear h0 (nula) y h1 (alternativa)\n",
    "* Definir nivel de confianza y alfa\n",
    "* Definir el nivel estadistico de contraste, y el calulo del Pvalor\n",
    "* Y por ultimo, comparar p valor con alfa. Si pvalor es menor que alfa, debo rechazar H0. Si pvalor es mayor a alfa, debo No rechazar H0."
   ]
  },
  {
   "cell_type": "markdown",
   "id": "222fbecb",
   "metadata": {},
   "source": [
    "### Definición de hipotesis:\n",
    "h0= no existen diferencias entre si vio el anuncio o no vio el anuncio.\n",
    "h1= si existen diferencias entre si ver el anuncio y no ver el anuncio.\n",
    "\n",
    "### Definición nivel de confianza y alfa:\n",
    "nivel de confianza : 95%\n",
    "alfa= 1-0.95 = 0,05\n",
    "\n"
   ]
  },
  {
   "cell_type": "markdown",
   "id": "ffb6934d",
   "metadata": {},
   "source": []
  },
  {
   "cell_type": "code",
   "execution_count": 20,
   "id": "acb844e5",
   "metadata": {},
   "outputs": [
    {
     "data": {
      "text/html": [
       "<div>\n",
       "<style scoped>\n",
       "    .dataframe tbody tr th:only-of-type {\n",
       "        vertical-align: middle;\n",
       "    }\n",
       "\n",
       "    .dataframe tbody tr th {\n",
       "        vertical-align: top;\n",
       "    }\n",
       "\n",
       "    .dataframe thead th {\n",
       "        text-align: right;\n",
       "    }\n",
       "</style>\n",
       "<table border=\"1\" class=\"dataframe\">\n",
       "  <thead>\n",
       "    <tr style=\"text-align: right;\">\n",
       "      <th></th>\n",
       "      <th>Unnamed:_0</th>\n",
       "      <th>user_id</th>\n",
       "      <th>test_group</th>\n",
       "      <th>converted</th>\n",
       "      <th>total_ads</th>\n",
       "      <th>most_ads_day</th>\n",
       "      <th>most_ads_hour</th>\n",
       "    </tr>\n",
       "  </thead>\n",
       "  <tbody>\n",
       "    <tr>\n",
       "      <th>0</th>\n",
       "      <td>0</td>\n",
       "      <td>1069124</td>\n",
       "      <td>ad</td>\n",
       "      <td>0</td>\n",
       "      <td>130</td>\n",
       "      <td>Monday</td>\n",
       "      <td>20</td>\n",
       "    </tr>\n",
       "    <tr>\n",
       "      <th>1</th>\n",
       "      <td>1</td>\n",
       "      <td>1119715</td>\n",
       "      <td>ad</td>\n",
       "      <td>0</td>\n",
       "      <td>93</td>\n",
       "      <td>Tuesday</td>\n",
       "      <td>22</td>\n",
       "    </tr>\n",
       "    <tr>\n",
       "      <th>2</th>\n",
       "      <td>2</td>\n",
       "      <td>1144181</td>\n",
       "      <td>ad</td>\n",
       "      <td>0</td>\n",
       "      <td>21</td>\n",
       "      <td>Tuesday</td>\n",
       "      <td>18</td>\n",
       "    </tr>\n",
       "    <tr>\n",
       "      <th>3</th>\n",
       "      <td>3</td>\n",
       "      <td>1435133</td>\n",
       "      <td>ad</td>\n",
       "      <td>0</td>\n",
       "      <td>355</td>\n",
       "      <td>Tuesday</td>\n",
       "      <td>10</td>\n",
       "    </tr>\n",
       "    <tr>\n",
       "      <th>4</th>\n",
       "      <td>4</td>\n",
       "      <td>1015700</td>\n",
       "      <td>ad</td>\n",
       "      <td>0</td>\n",
       "      <td>276</td>\n",
       "      <td>Friday</td>\n",
       "      <td>14</td>\n",
       "    </tr>\n",
       "  </tbody>\n",
       "</table>\n",
       "</div>"
      ],
      "text/plain": [
       "   Unnamed:_0  user_id test_group  converted  total_ads most_ads_day  \\\n",
       "0           0  1069124         ad          0        130       Monday   \n",
       "1           1  1119715         ad          0         93      Tuesday   \n",
       "2           2  1144181         ad          0         21      Tuesday   \n",
       "3           3  1435133         ad          0        355      Tuesday   \n",
       "4           4  1015700         ad          0        276       Friday   \n",
       "\n",
       "   most_ads_hour  \n",
       "0             20  \n",
       "1             22  \n",
       "2             18  \n",
       "3             10  \n",
       "4             14  "
      ]
     },
     "execution_count": 20,
     "metadata": {},
     "output_type": "execute_result"
    }
   ],
   "source": [
    "data_mk[\"converted\"] = data_mk[\"converted\"].astype(int)\n",
    "data_mk.head()"
   ]
  },
  {
   "cell_type": "code",
   "execution_count": 21,
   "id": "fb7e46b8",
   "metadata": {},
   "outputs": [
    {
     "name": "stdout",
     "output_type": "stream",
     "text": [
      "0    ad\n",
      "1    ad\n",
      "2    ad\n",
      "3    ad\n",
      "4    ad\n",
      "Name: test_group, dtype: object\n",
      "18     psa\n",
      "38     psa\n",
      "68     psa\n",
      "140    psa\n",
      "157    psa\n",
      "Name: test_group, dtype: object\n"
     ]
    }
   ],
   "source": [
    "#filtramos los que tienen avisos y los que no\n",
    "\n",
    "tratamiento_ad= data_mk.query('test_group == \"ad\"')\n",
    "control_psa= data_mk.query('test_group == \"psa\"')\n",
    "print(tratamiento_ad.head()[\"test_group\"])\n",
    "print(control_psa. head() [\"test_group\"])"
   ]
  },
  {
   "cell_type": "code",
   "execution_count": 22,
   "id": "6cc22de2",
   "metadata": {},
   "outputs": [
    {
     "name": "stdout",
     "output_type": "stream",
     "text": [
      "promedio de conversion: 0.025546559636683747\n",
      "promedio de conversion: 0.01785410644448223\n",
      "promedio de conversion: 0.02523886203220195\n"
     ]
    }
   ],
   "source": [
    "print(\"promedio de conversion: \" + str(tratamiento_ad['converted'].mean()))\n",
    "print(\"promedio de conversion: \" + str(control_psa['converted'].mean()))\n",
    "print(\"promedio de conversion: \" + str(data_mk['converted'].mean()))"
   ]
  },
  {
   "cell_type": "code",
   "execution_count": 23,
   "id": "71c516a6",
   "metadata": {},
   "outputs": [
    {
     "name": "stdout",
     "output_type": "stream",
     "text": [
      "conversion con anuncio:0.025546559636683747\n",
      "conversion sin anuncio:0.01785410644448223\n"
     ]
    }
   ],
   "source": [
    "\n",
    "## esto calcula la cantidad de clientes que vieron anuncio y comprar dividido todos los que recibieron anuncio\n",
    "tasa_convert_ad=len(tratamiento_ad.query('converted == 1')) / len(tratamiento_ad)\n",
    "\n",
    "\n",
    "## esto calcula la cantidad de clientes que vieron anuncio y comprar dividido todos los que no recibieron anuncio\n",
    "tasa_convert_psa=len(control_psa.query('converted == 1')) / len(control_psa) \n",
    "\n",
    "print(\"conversion con anuncio:\" + str(tasa_convert_ad))\n",
    "print(\"conversion sin anuncio:\" + str(tasa_convert_psa))"
   ]
  },
  {
   "cell_type": "code",
   "execution_count": 33,
   "id": "fff74311",
   "metadata": {},
   "outputs": [
    {
     "name": "stdout",
     "output_type": "stream",
     "text": [
      "se deja el parametro 'alternative' que plantea por defecto probar si hay una dif signficativa en ambas dirección\n",
      "el p valor es: 1.7052807161559727e-13\n",
      "el t valor es: 7.3700781265454145\n",
      "rechazoH0: se confirma que los que vieron el anuncio compraron más\n"
     ]
    }
   ],
   "source": [
    "con_ad=len(tratamiento_ad.query('converted == 1'))\n",
    "total_vis=len(tratamiento_ad)\n",
    "\n",
    "\n",
    "c_psa=len(control_psa.query('converted == 1'))\n",
    "total_novis=len(control_psa) \n",
    "\n",
    "\n",
    "array_convirtio=np.array([con_ad, c_psa])\n",
    "array_visualiza=np.array([total_vis, total_novis])\n",
    "\n",
    "\n",
    "#Cálculos con ztest en ambas direcciones.\n",
    "pvalor= proportions_ztest(count=array_convirtio, nobs=array_visualiza)[1]\n",
    "tvalor=proportions_ztest(count=array_convirtio, nobs=array_visualiza)[0]\n",
    "\n",
    "print(\"se deja el parametro 'alternative' que plantea por defecto probar si hay una diferencia signficativa en ambas direcciones\")\n",
    "print(\"el p valor es: \"+str(pvalor))\n",
    "print(\"el t valor es: \"+str(tvalor))\n",
    "status_prueba1=\"\"\n",
    "\n",
    "\n",
    "if pvalor<0.05:\n",
    "    print(\"rechazoH0: se confirma que los que vieron el anuncio compraron más\")\n",
    "else: \n",
    "    print(\"no rechazo H0: no existe evidencia estadistica que nos confrime que ver el anuncio impacte que compren más\")    \n",
    "\n",
    "\n"
   ]
  },
  {
   "cell_type": "code",
   "execution_count": 36,
   "id": "95bd684d",
   "metadata": {},
   "outputs": [
    {
     "name": "stdout",
     "output_type": "stream",
     "text": [
      "se deja el parametro 'alternative' que plantea por defecto probar si hay una dif signficativa en ambas dirección\n",
      "el p valor es: 8.526403580779863e-14\n",
      "el t valor es: 7.3700781265454145\n",
      "rechazoH0: se confirma que los que vieron el anuncio compraron más\n"
     ]
    }
   ],
   "source": [
    "#calculos con ztest tipo larger probar si la proporción en la primera muestra es mayor que en la segunda muestra.\n",
    "pvalor= proportions_ztest(count=array_convirtio, nobs=array_visualiza, alternative='larger')[1]\n",
    "tvalor=proportions_ztest(count=array_convirtio, nobs=array_visualiza, alternative='larger')[0]\n",
    "\n",
    "print(\"se deja el parametro 'alternative' que plantea por defecto probar si hay una dif signficativa en ambas dirección\")\n",
    "print(\"el p valor es: \"+str(pvalor))\n",
    "print(\"el t valor es: \"+str(tvalor))\n",
    "status_prueba1=\"\"\n",
    "\n",
    "\n",
    "if pvalor<0.05:\n",
    "    print(\"rechazoH0: se confirma que los que vieron el anuncio compraron más\")\n",
    "else: \n",
    "    print(\"no rechazo H0: no existe evidencia estadistica que nos confrime que ver el anuncio impacte que compren más\")    \n",
    "\n"
   ]
  },
  {
   "cell_type": "markdown",
   "id": "e59e9130",
   "metadata": {},
   "source": [
    "## Conclusión Final del estudio\n",
    "A partir del Ztest se comprobó que la tasa superior de conversión de las personas que vieron los anuncios es estadisticamente representativa, por lo tanto se recomienda implementar las campañas por el efecto positivo que tienen en las compras de los clientes. "
   ]
  },
  {
   "cell_type": "markdown",
   "id": "598cb192",
   "metadata": {},
   "source": []
  }
 ],
 "metadata": {
  "kernelspec": {
   "display_name": "Python 3 (ipykernel)",
   "language": "python",
   "name": "python3"
  },
  "language_info": {
   "codemirror_mode": {
    "name": "ipython",
    "version": 3
   },
   "file_extension": ".py",
   "mimetype": "text/x-python",
   "name": "python",
   "nbconvert_exporter": "python",
   "pygments_lexer": "ipython3",
   "version": "3.11.5"
  }
 },
 "nbformat": 4,
 "nbformat_minor": 5
}
